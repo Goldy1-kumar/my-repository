{
 "cells": [
  {
   "cell_type": "code",
   "execution_count": null,
   "id": "a38b205e",
   "metadata": {},
   "outputs": [],
   "source": [
    "# NAME GOLDY KUMAR\n",
    "# COURSE DATA SCIENCE WITH PYTHON \n",
    "# BATCH NO 07\n",
    "# E-MAIL goldykumar250520000@gmail.com"
   ]
  },
  {
   "cell_type": "code",
   "execution_count": 1,
   "id": "2db1e9c8",
   "metadata": {},
   "outputs": [
    {
     "name": "stdout",
     "output_type": "stream",
     "text": [
      "<class 'int'>\n",
      "<class 'str'>\n"
     ]
    }
   ],
   "source": [
    "#Find the data type of these two declaration:\n",
    "x=5 \n",
    "y=\"John\"\n",
    "print(type(x))\n",
    "print(type(y))"
   ]
  },
  {
   "cell_type": "code",
   "execution_count": null,
   "id": "4288e899",
   "metadata": {},
   "outputs": [],
   "source": [
    "#Check whether the following syntax is valid or invalid for naming a variable. \n",
    "#Example:\n",
    "abc=100 # valid syntax\n",
    "i.   3a = 10    # invalid syntax\n",
    "ii.  @abc=10    # invalid syntax\n",
    "iii. a100=100   # valid syntax\n",
    "iv.  _a984_=100 # valid syntax\n",
    "v.   a9967$=100 # invalid syntax\n",
    "vi.  xyz-2=100  # invalid syntax\n",
    "    "
   ]
  },
  {
   "cell_type": "code",
   "execution_count": 2,
   "id": "1b50fc75",
   "metadata": {},
   "outputs": [
    {
     "name": "stdout",
     "output_type": "stream",
     "text": [
      "Check if 3 exist or not: True\n",
      "Check if 9 exist or not: False\n"
     ]
    }
   ],
   "source": [
    "#Check if element exists in list in Python:\n",
    "list=test_list=[1,6,3,5,3,4]\n",
    "print(\"Check if 3 exist or not:\", 3 in list)\n",
    "print(\"Check if 9 exist or not:\", 9 in list)\n"
   ]
  },
  {
   "cell_type": "code",
   "execution_count": 3,
   "id": "be8f0507",
   "metadata": {},
   "outputs": [
    {
     "name": "stdout",
     "output_type": "stream",
     "text": [
      "Enter a year: 2023\n",
      "Enter a month: 3\n",
      "Enter a day: 10\n",
      "2023-03-10\n"
     ]
    }
   ],
   "source": [
    "#Take the user input to print the current date\n",
    "from datetime import date, datetime\n",
    "\n",
    "\n",
    "year = int(input('Enter a year: '))\n",
    "month = int(input('Enter a month: '))\n",
    "day = int(input('Enter a day: '))\n",
    "\n",
    "d = date(year, month, day)\n",
    "print(d)"
   ]
  },
  {
   "cell_type": "code",
   "execution_count": 4,
   "id": "b9690890",
   "metadata": {},
   "outputs": [
    {
     "name": "stdout",
     "output_type": "stream",
     "text": [
      "4\n",
      "1\n"
     ]
    }
   ],
   "source": [
    "#what is the output of the following code:\n",
    "print(9 // 2)\n",
    "print(9 % 2)"
   ]
  },
  {
   "cell_type": "code",
   "execution_count": 5,
   "id": "2443437c",
   "metadata": {},
   "outputs": [
    {
     "name": "stdout",
     "output_type": "stream",
     "text": [
      "1\n",
      "2\n",
      "3\n",
      "4\n",
      "5\n",
      "6\n",
      "7\n",
      "8\n",
      "9\n",
      "10\n"
     ]
    }
   ],
   "source": [
    "#Print First 10 natural numbers using a whileloop.\n",
    "i = 1\n",
    "while i <=10:\n",
    "    print(i)\n",
    "    i += 1"
   ]
  },
  {
   "cell_type": "code",
   "execution_count": 6,
   "id": "a951ad13",
   "metadata": {},
   "outputs": [
    {
     "name": "stdout",
     "output_type": "stream",
     "text": [
      "Enter the number10\n",
      "55\n"
     ]
    }
   ],
   "source": [
    "#Write a program to accept a number from a user and calculate the sum of all numbers from 1 to a given number./\n",
    "num = eval(input(\"Enter the number\"))\n",
    "sum = 0\n",
    "for i in range(num + 1):\n",
    "    sum += i\n",
    "print(sum)"
   ]
  },
  {
   "cell_type": "code",
   "execution_count": 7,
   "id": "19edfa4a",
   "metadata": {},
   "outputs": [
    {
     "name": "stdout",
     "output_type": "stream",
     "text": [
      "fizzbuzz\n",
      "1\n",
      "2\n",
      "fizz\n",
      "4\n",
      "buzz\n",
      "fizz\n",
      "7\n",
      "8\n",
      "fizz\n",
      "buzz\n",
      "11\n",
      "fizz\n",
      "13\n",
      "14\n",
      "fizzbuzz\n",
      "16\n",
      "17\n",
      "fizz\n",
      "19\n",
      "buzz\n",
      "fizz\n",
      "22\n",
      "23\n",
      "fizz\n",
      "buzz\n",
      "26\n",
      "fizz\n",
      "28\n",
      "29\n",
      "fizzbuzz\n",
      "31\n",
      "32\n",
      "fizz\n",
      "34\n",
      "buzz\n",
      "fizz\n",
      "37\n",
      "38\n",
      "fizz\n",
      "buzz\n",
      "41\n",
      "fizz\n",
      "43\n",
      "44\n",
      "fizzbuzz\n",
      "46\n",
      "47\n",
      "fizz\n",
      "49\n",
      "buzz\n"
     ]
    }
   ],
   "source": [
    "#Write a Python program which iterates the integers from 1 to 50.\n",
    "#For multiples of three print \"Fizz\" instead of the number and for the multiples of five print \"Buzz\".\n",
    "#For numbers which are multiples of both three and five print \"FizzBuzz\".\n",
    "for i in range(0,51):\n",
    "    if i % 5 == 0 and i % 3 == 0:\n",
    "        print(\"fizzbuzz\")\n",
    "    elif i % 5 == 0:\n",
    "        print(\"buzz\")\n",
    "    elif i % 3 == 0:\n",
    "        print(\"fizz\")\n",
    "    else:\n",
    "        print(i)"
   ]
  },
  {
   "cell_type": "code",
   "execution_count": null,
   "id": "1b77bb16",
   "metadata": {},
   "outputs": [],
   "source": []
  }
 ],
 "metadata": {
  "kernelspec": {
   "display_name": "Python 3 (ipykernel)",
   "language": "python",
   "name": "python3"
  },
  "language_info": {
   "codemirror_mode": {
    "name": "ipython",
    "version": 3
   },
   "file_extension": ".py",
   "mimetype": "text/x-python",
   "name": "python",
   "nbconvert_exporter": "python",
   "pygments_lexer": "ipython3",
   "version": "3.9.12"
  }
 },
 "nbformat": 4,
 "nbformat_minor": 5
}
